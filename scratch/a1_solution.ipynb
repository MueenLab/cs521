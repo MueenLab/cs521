{
 "cells": [
  {
   "cell_type": "markdown",
   "id": "29019faae4dae706",
   "metadata": {},
   "source": [
    "# Assignment 1: Dimensionality Reduction\n",
    "\n",
    "This notebook is a starter template for your assignment. Please fill in the required functions and complete the analysis as described in the assignment instructions.\n"
   ]
  },
  {
   "cell_type": "code",
   "id": "8be13b28ca372a84",
   "metadata": {
    "ExecuteTime": {
     "end_time": "2025-08-15T17:24:51.234238Z",
     "start_time": "2025-08-15T17:24:50.975851Z"
    }
   },
   "source": [
    "# libraries\n",
    "import numpy as np\n",
    "import matplotlib.pyplot as plt"
   ],
   "outputs": [],
   "execution_count": 1
  },
  {
   "cell_type": "code",
   "id": "4777cc72",
   "metadata": {
    "ExecuteTime": {
     "end_time": "2025-08-15T17:25:11.834949Z",
     "start_time": "2025-08-15T17:25:11.796393Z"
    }
   },
   "source": [
    "# Load the data\n",
    "# You can use numpy to load the data from a file.\n",
    "\n",
    "def load_data(file_path):\n",
    "    \"\"\"\n",
    "    Load the dataset from a given file path.\n",
    "    Args:\n",
    "        file_path: str, path to the data file\n",
    "    Returns:\n",
    "        data: numpy array of shape (n_samples, n_features)\n",
    "    \"\"\"\n",
    "    data = np.loadtxt(file_path)\n",
    "    return data\n",
    "\n",
    "# Example usage:\n",
    "data = load_data('../data/Asgmnt1_data.txt')\n",
    "print('Data shape:', data.shape)"
   ],
   "outputs": [
    {
     "ename": "FileNotFoundError",
     "evalue": "../data/Asgmnt1_data.txt not found.",
     "output_type": "error",
     "traceback": [
      "\u001B[0;31m---------------------------------------------------------------------------\u001B[0m",
      "\u001B[0;31mFileNotFoundError\u001B[0m                         Traceback (most recent call last)",
      "Cell \u001B[0;32mIn[3], line 16\u001B[0m\n\u001B[1;32m     13\u001B[0m     \u001B[38;5;28;01mreturn\u001B[39;00m data\n\u001B[1;32m     15\u001B[0m \u001B[38;5;66;03m# Example usage:\u001B[39;00m\n\u001B[0;32m---> 16\u001B[0m data \u001B[38;5;241m=\u001B[39m \u001B[43mload_data\u001B[49m\u001B[43m(\u001B[49m\u001B[38;5;124;43m'\u001B[39;49m\u001B[38;5;124;43m../data/Asgmnt1_data.txt\u001B[39;49m\u001B[38;5;124;43m'\u001B[39;49m\u001B[43m)\u001B[49m\n\u001B[1;32m     17\u001B[0m \u001B[38;5;28mprint\u001B[39m(\u001B[38;5;124m'\u001B[39m\u001B[38;5;124mData shape:\u001B[39m\u001B[38;5;124m'\u001B[39m, data\u001B[38;5;241m.\u001B[39mshape)\n",
      "Cell \u001B[0;32mIn[3], line 12\u001B[0m, in \u001B[0;36mload_data\u001B[0;34m(file_path)\u001B[0m\n\u001B[1;32m      4\u001B[0m \u001B[38;5;28;01mdef\u001B[39;00m\u001B[38;5;250m \u001B[39m\u001B[38;5;21mload_data\u001B[39m(file_path):\n\u001B[1;32m      5\u001B[0m \u001B[38;5;250m    \u001B[39m\u001B[38;5;124;03m\"\"\"\u001B[39;00m\n\u001B[1;32m      6\u001B[0m \u001B[38;5;124;03m    Load the dataset from a given file path.\u001B[39;00m\n\u001B[1;32m      7\u001B[0m \u001B[38;5;124;03m    Args:\u001B[39;00m\n\u001B[0;32m   (...)\u001B[0m\n\u001B[1;32m     10\u001B[0m \u001B[38;5;124;03m        data: numpy array of shape (n_samples, n_features)\u001B[39;00m\n\u001B[1;32m     11\u001B[0m \u001B[38;5;124;03m    \"\"\"\u001B[39;00m\n\u001B[0;32m---> 12\u001B[0m     data \u001B[38;5;241m=\u001B[39m \u001B[43mnp\u001B[49m\u001B[38;5;241;43m.\u001B[39;49m\u001B[43mloadtxt\u001B[49m\u001B[43m(\u001B[49m\u001B[43mfile_path\u001B[49m\u001B[43m)\u001B[49m\n\u001B[1;32m     13\u001B[0m     \u001B[38;5;28;01mreturn\u001B[39;00m data\n",
      "File \u001B[0;32m~/projects/cs521/venv/lib/python3.10/site-packages/numpy/lib/_npyio_impl.py:1395\u001B[0m, in \u001B[0;36mloadtxt\u001B[0;34m(fname, dtype, comments, delimiter, converters, skiprows, usecols, unpack, ndmin, encoding, max_rows, quotechar, like)\u001B[0m\n\u001B[1;32m   1392\u001B[0m \u001B[38;5;28;01mif\u001B[39;00m \u001B[38;5;28misinstance\u001B[39m(delimiter, \u001B[38;5;28mbytes\u001B[39m):\n\u001B[1;32m   1393\u001B[0m     delimiter \u001B[38;5;241m=\u001B[39m delimiter\u001B[38;5;241m.\u001B[39mdecode(\u001B[38;5;124m'\u001B[39m\u001B[38;5;124mlatin1\u001B[39m\u001B[38;5;124m'\u001B[39m)\n\u001B[0;32m-> 1395\u001B[0m arr \u001B[38;5;241m=\u001B[39m \u001B[43m_read\u001B[49m\u001B[43m(\u001B[49m\u001B[43mfname\u001B[49m\u001B[43m,\u001B[49m\u001B[43m \u001B[49m\u001B[43mdtype\u001B[49m\u001B[38;5;241;43m=\u001B[39;49m\u001B[43mdtype\u001B[49m\u001B[43m,\u001B[49m\u001B[43m \u001B[49m\u001B[43mcomment\u001B[49m\u001B[38;5;241;43m=\u001B[39;49m\u001B[43mcomment\u001B[49m\u001B[43m,\u001B[49m\u001B[43m \u001B[49m\u001B[43mdelimiter\u001B[49m\u001B[38;5;241;43m=\u001B[39;49m\u001B[43mdelimiter\u001B[49m\u001B[43m,\u001B[49m\n\u001B[1;32m   1396\u001B[0m \u001B[43m            \u001B[49m\u001B[43mconverters\u001B[49m\u001B[38;5;241;43m=\u001B[39;49m\u001B[43mconverters\u001B[49m\u001B[43m,\u001B[49m\u001B[43m \u001B[49m\u001B[43mskiplines\u001B[49m\u001B[38;5;241;43m=\u001B[39;49m\u001B[43mskiprows\u001B[49m\u001B[43m,\u001B[49m\u001B[43m \u001B[49m\u001B[43musecols\u001B[49m\u001B[38;5;241;43m=\u001B[39;49m\u001B[43musecols\u001B[49m\u001B[43m,\u001B[49m\n\u001B[1;32m   1397\u001B[0m \u001B[43m            \u001B[49m\u001B[43munpack\u001B[49m\u001B[38;5;241;43m=\u001B[39;49m\u001B[43munpack\u001B[49m\u001B[43m,\u001B[49m\u001B[43m \u001B[49m\u001B[43mndmin\u001B[49m\u001B[38;5;241;43m=\u001B[39;49m\u001B[43mndmin\u001B[49m\u001B[43m,\u001B[49m\u001B[43m \u001B[49m\u001B[43mencoding\u001B[49m\u001B[38;5;241;43m=\u001B[39;49m\u001B[43mencoding\u001B[49m\u001B[43m,\u001B[49m\n\u001B[1;32m   1398\u001B[0m \u001B[43m            \u001B[49m\u001B[43mmax_rows\u001B[49m\u001B[38;5;241;43m=\u001B[39;49m\u001B[43mmax_rows\u001B[49m\u001B[43m,\u001B[49m\u001B[43m \u001B[49m\u001B[43mquote\u001B[49m\u001B[38;5;241;43m=\u001B[39;49m\u001B[43mquotechar\u001B[49m\u001B[43m)\u001B[49m\n\u001B[1;32m   1400\u001B[0m \u001B[38;5;28;01mreturn\u001B[39;00m arr\n",
      "File \u001B[0;32m~/projects/cs521/venv/lib/python3.10/site-packages/numpy/lib/_npyio_impl.py:1022\u001B[0m, in \u001B[0;36m_read\u001B[0;34m(fname, delimiter, comment, quote, imaginary_unit, usecols, skiplines, max_rows, converters, ndmin, unpack, dtype, encoding)\u001B[0m\n\u001B[1;32m   1020\u001B[0m     fname \u001B[38;5;241m=\u001B[39m os\u001B[38;5;241m.\u001B[39mfspath(fname)\n\u001B[1;32m   1021\u001B[0m \u001B[38;5;28;01mif\u001B[39;00m \u001B[38;5;28misinstance\u001B[39m(fname, \u001B[38;5;28mstr\u001B[39m):\n\u001B[0;32m-> 1022\u001B[0m     fh \u001B[38;5;241m=\u001B[39m \u001B[43mnp\u001B[49m\u001B[38;5;241;43m.\u001B[39;49m\u001B[43mlib\u001B[49m\u001B[38;5;241;43m.\u001B[39;49m\u001B[43m_datasource\u001B[49m\u001B[38;5;241;43m.\u001B[39;49m\u001B[43mopen\u001B[49m\u001B[43m(\u001B[49m\u001B[43mfname\u001B[49m\u001B[43m,\u001B[49m\u001B[43m \u001B[49m\u001B[38;5;124;43m'\u001B[39;49m\u001B[38;5;124;43mrt\u001B[39;49m\u001B[38;5;124;43m'\u001B[39;49m\u001B[43m,\u001B[49m\u001B[43m \u001B[49m\u001B[43mencoding\u001B[49m\u001B[38;5;241;43m=\u001B[39;49m\u001B[43mencoding\u001B[49m\u001B[43m)\u001B[49m\n\u001B[1;32m   1023\u001B[0m     \u001B[38;5;28;01mif\u001B[39;00m encoding \u001B[38;5;129;01mis\u001B[39;00m \u001B[38;5;28;01mNone\u001B[39;00m:\n\u001B[1;32m   1024\u001B[0m         encoding \u001B[38;5;241m=\u001B[39m \u001B[38;5;28mgetattr\u001B[39m(fh, \u001B[38;5;124m'\u001B[39m\u001B[38;5;124mencoding\u001B[39m\u001B[38;5;124m'\u001B[39m, \u001B[38;5;124m'\u001B[39m\u001B[38;5;124mlatin1\u001B[39m\u001B[38;5;124m'\u001B[39m)\n",
      "File \u001B[0;32m~/projects/cs521/venv/lib/python3.10/site-packages/numpy/lib/_datasource.py:192\u001B[0m, in \u001B[0;36mopen\u001B[0;34m(path, mode, destpath, encoding, newline)\u001B[0m\n\u001B[1;32m    155\u001B[0m \u001B[38;5;250m\u001B[39m\u001B[38;5;124;03m\"\"\"\u001B[39;00m\n\u001B[1;32m    156\u001B[0m \u001B[38;5;124;03mOpen `path` with `mode` and return the file object.\u001B[39;00m\n\u001B[1;32m    157\u001B[0m \n\u001B[0;32m   (...)\u001B[0m\n\u001B[1;32m    188\u001B[0m \n\u001B[1;32m    189\u001B[0m \u001B[38;5;124;03m\"\"\"\u001B[39;00m\n\u001B[1;32m    191\u001B[0m ds \u001B[38;5;241m=\u001B[39m DataSource(destpath)\n\u001B[0;32m--> 192\u001B[0m \u001B[38;5;28;01mreturn\u001B[39;00m \u001B[43mds\u001B[49m\u001B[38;5;241;43m.\u001B[39;49m\u001B[43mopen\u001B[49m\u001B[43m(\u001B[49m\u001B[43mpath\u001B[49m\u001B[43m,\u001B[49m\u001B[43m \u001B[49m\u001B[43mmode\u001B[49m\u001B[43m,\u001B[49m\u001B[43m \u001B[49m\u001B[43mencoding\u001B[49m\u001B[38;5;241;43m=\u001B[39;49m\u001B[43mencoding\u001B[49m\u001B[43m,\u001B[49m\u001B[43m \u001B[49m\u001B[43mnewline\u001B[49m\u001B[38;5;241;43m=\u001B[39;49m\u001B[43mnewline\u001B[49m\u001B[43m)\u001B[49m\n",
      "File \u001B[0;32m~/projects/cs521/venv/lib/python3.10/site-packages/numpy/lib/_datasource.py:529\u001B[0m, in \u001B[0;36mDataSource.open\u001B[0;34m(self, path, mode, encoding, newline)\u001B[0m\n\u001B[1;32m    526\u001B[0m     \u001B[38;5;28;01mreturn\u001B[39;00m _file_openers[ext](found, mode\u001B[38;5;241m=\u001B[39mmode,\n\u001B[1;32m    527\u001B[0m                               encoding\u001B[38;5;241m=\u001B[39mencoding, newline\u001B[38;5;241m=\u001B[39mnewline)\n\u001B[1;32m    528\u001B[0m \u001B[38;5;28;01melse\u001B[39;00m:\n\u001B[0;32m--> 529\u001B[0m     \u001B[38;5;28;01mraise\u001B[39;00m \u001B[38;5;167;01mFileNotFoundError\u001B[39;00m(\u001B[38;5;124mf\u001B[39m\u001B[38;5;124m\"\u001B[39m\u001B[38;5;132;01m{\u001B[39;00mpath\u001B[38;5;132;01m}\u001B[39;00m\u001B[38;5;124m not found.\u001B[39m\u001B[38;5;124m\"\u001B[39m)\n",
      "\u001B[0;31mFileNotFoundError\u001B[0m: ../data/Asgmnt1_data.txt not found."
     ]
    }
   ],
   "execution_count": 3
  },
  {
   "cell_type": "code",
   "id": "baa85056",
   "metadata": {
    "ExecuteTime": {
     "end_time": "2025-08-15T17:25:25.617281Z",
     "start_time": "2025-08-15T17:25:25.604466Z"
    }
   },
   "source": [
    "## Normalization\n",
    "def normalize_data(X):\n",
    "    \"\"\"\n",
    "    Normalize the data by row\n",
    "    :param X: numpy array\n",
    "    :return: row-normalized numpy array\n",
    "    \"\"\"\n",
    "    mean = np.mean(X, axis=1, keepdims=True)\n",
    "    std = np.std(X, axis=1, keepdims=True)\n",
    "    return (X - mean) / (std + 1e-8)  # Avoid division by zero\n",
    "\n",
    "def euclidean_distance_matrix(X):\n",
    "    \"\"\"\n",
    "    Compute the pairwise Euclidean distance matrix for X.\n",
    "    Args:\n",
    "        X: numpy array of shape (n_samples, n_features)\n",
    "    Returns:\n",
    "        dist_matrix: numpy array of shape (n_samples, n_samples)\n",
    "    \"\"\"\n",
    "    X = np.asarray(X)\n",
    "    sum_X = np.sum(np.square(X), axis=1)\n",
    "    dist_matrix = np.sqrt(np.maximum(sum_X[:, None] + sum_X[None, :] - 2 * np.dot(X, X.T), 0))\n",
    "    return dist_matrix\n",
    "\n",
    "# Example usage (you can uncomment this after implementing for testing):\n",
    "# dist_matrix = euclidean_distance(data_norm[:100])\n",
    "# print('Distance matrix shape:', dist_matrix.shape)\n",
    "\n",
    "def haar_matrix(n):\n",
    "    if n == 1:\n",
    "        return np.array([[1]])\n",
    "    H = haar_matrix(n // 2)\n",
    "    top = np.kron(H, np.array([[1.0, 1.0]])) \n",
    "    bottom = np.kron(np.eye(len(H)), [1, -1])\n",
    "    return np.vstack((top, bottom)) #/ np.sqrt(2.0)\n",
    "\n",
    "\n",
    "def wavelet_transform(X, haar_n, reduced_n):\n",
    "    \"\"\"\n",
    "    Apply Haar wavelet transform to X using an n x n Haar matrix.\n",
    "    Args:\n",
    "        X: numpy array of shape (n_samples, n_features)\n",
    "        haar_n: int, number of features (should match X.shape[1])\n",
    "    Returns:\n",
    "        X_wavelet: numpy array of shape (n_samples, n_features)\n",
    "    \"\"\"\n",
    "    H = haar_matrix(haar_n)\n",
    "    norm_factor = np.count_nonzero(H, axis=1)  # Normalization factor\n",
    "    X_wavelet = np.dot(X, H.T) / norm_factor\n",
    "    return X_wavelet[:, :reduced_n]\n",
    "\n",
    "# Example usage (you can uncomment this after implementing for testing):\n",
    "# H = haar_matrix(data_norm.shape[1])\n",
    "# data_wavelet = wavelet_transform(data_norm, data_norm.shape[1])\n",
    "# print('Wavelet-transformed data shape:', data_wavelet.shape)\n",
    "\n",
    "def pca(X, n_components):\n",
    "    \"\"\"\n",
    "    Perform PCA on X and return the projected data.\n",
    "    Args:\n",
    "        X: numpy array of shape (n_samples, n_features)\n",
    "        n_components: int, number of principal components to keep\n",
    "    Returns:\n",
    "        X_pca: numpy array of shape (n_samples, n_components)\n",
    "    \"\"\"\n",
    "    # z-normalize the data\n",
    "    mean = np.mean(X, axis=0)\n",
    "    std = np.std(X, axis=0)\n",
    "    X_centered = (X - mean) / std  # Avoid division by zero\n",
    "    X_centered = np.nan_to_num(X_centered)\n",
    "    # Center the data\n",
    "    # X_centered = X - np.mean(X, axis=0)\n",
    "    # cov = np.cov(X_centered, rowvar=False)\n",
    "    cov = np.dot(X_centered.T, X_centered)\n",
    "    eigvals, eigvecs = np.linalg.eigh(cov)\n",
    "    idx = np.argsort(eigvals)[::-1]\n",
    "    eigvecs = eigvecs[:, idx]\n",
    "    eigvecs = eigvecs[:, :n_components]\n",
    "    X_pca = np.dot(X_centered, eigvecs)\n",
    "    return X_pca\n",
    "\n",
    "# Example usage (uncomment after implementing):\n",
    "# data_pca = pca(data_znorm, 4)\n",
    "# print('PCA-transformed data shape:', data_pca.shape)\n"
   ],
   "outputs": [],
   "execution_count": 4
  },
  {
   "cell_type": "code",
   "execution_count": 4,
   "id": "0f2e6388",
   "metadata": {},
   "outputs": [
    {
     "name": "stdout",
     "output_type": "stream",
     "text": [
      "Normalized data shape: (16000, 128)\n",
      "Time for Euclidean distance (original): 1.6705 seconds\n",
      "Time for Euclidean distance (wavelet): 1.2662 seconds\n",
      "Time for Euclidean distance (PCA): 1.6326 seconds\n"
     ]
    }
   ],
   "source": [
    "# Your implementation for measuring elapsed time goes here\n",
    "import time\n",
    "data_norm = normalize_data(data)\n",
    "print('Normalized data shape:', data_norm.shape)\n",
    "# Use a subset for demonstration if the dataset is large (e.g., first 100 samples)\n",
    "subset = 16000\n",
    "X_orig = data_norm[:subset]\n",
    "X_wavelet = wavelet_transform(X_orig, haar_n=X_orig.shape[1], reduced_n=4)\n",
    "X_pca = pca(X_orig, n_components=4)\n",
    "\n",
    "# 1. Time for original dataset\n",
    "start = time.time()\n",
    "dist_orig = euclidean_distance_matrix(X_orig)\n",
    "time_orig = time.time() - start\n",
    "print(f\"Time for Euclidean distance (original): {time_orig:.4f} seconds\")\n",
    "\n",
    "# 2. Time for wavelet-transformed dataset\n",
    "start = time.time()\n",
    "dist_wavelet = euclidean_distance_matrix(X_wavelet)\n",
    "time_wavelet = time.time() - start\n",
    "print(f\"Time for Euclidean distance (wavelet): {time_wavelet:.4f} seconds\")\n",
    "\n",
    "# 3. Time for PCA-transformed dataset\n",
    "start = time.time()\n",
    "dist_pca = euclidean_distance_matrix(X_pca)\n",
    "time_pca = time.time() - start\n",
    "print(f\"Time for Euclidean distance (PCA): {time_pca:.4f} seconds\")"
   ]
  },
  {
   "cell_type": "code",
   "execution_count": 5,
   "id": "07b49732",
   "metadata": {},
   "outputs": [
    {
     "name": "stdout",
     "output_type": "stream",
     "text": [
      "Wavelet consistency: 0.6012\n",
      "PCA consistency: 0.6224\n"
     ]
    }
   ],
   "source": [
    "# Your implementation for distance relation consistency goes here\n",
    "import random\n",
    "\n",
    "def relationship_consistency(dist_orig, dist_reduced, num_samples=100000, seed=None):\n",
    "    \"\"\"\n",
    "    Compare pairwise distance relationships between original and reduced distance matrices.\n",
    "    Returns the fraction of relationships preserved.\n",
    "    Args:\n",
    "        dist_orig: numpy array, shape (n, n), original distance matrix\n",
    "        dist_reduced: numpy array, shape (n, n), reduced distance matrix\n",
    "        num_samples: int, number of random triplets to sample\n",
    "        seed: int, random seed for reproducibility\n",
    "    Returns:\n",
    "        consistency: float, fraction of preserved relationships\n",
    "    \"\"\"\n",
    "    if seed is not None:\n",
    "        np.random.seed(seed)\n",
    "    n = dist_orig.shape[0]\n",
    "    count = 0\n",
    "    preserved = 0\n",
    "    for _ in range(num_samples):\n",
    "        # Randomly pick anchor, B, C (all different)\n",
    "        a, b, c = np.random.choice(n, 3, replace=False)\n",
    "        rel_orig = dist_orig[a, b] > dist_orig[a, c]\n",
    "        rel_reduced = dist_reduced[a, b] > dist_reduced[a, c]\n",
    "        if rel_orig == rel_reduced:\n",
    "            preserved += 1\n",
    "        count += 1\n",
    "    return preserved / count\n",
    "\n",
    "# Example usage:\n",
    "cons_wavelet = relationship_consistency(dist_orig, dist_wavelet)\n",
    "cons_pca = relationship_consistency(dist_orig, dist_pca)\n",
    "print(f\"Wavelet consistency: {cons_wavelet:.4f}\")\n",
    "print(f\"PCA consistency: {cons_pca:.4f}\")"
   ]
  },
  {
   "cell_type": "code",
   "id": "0146e393",
   "metadata": {
    "ExecuteTime": {
     "end_time": "2025-08-15T17:25:33.791482Z",
     "start_time": "2025-08-15T17:25:33.780737Z"
    }
   },
   "source": [
    "import numpy as np\n",
    "\n",
    "eval_data = np.array([\n",
    "    [1, 1, 1, 1, 1, 1, 1, 1],\n",
    "    [1.1, 0.9, 1, 1, 1, 1, 1, 1],\n",
    "    [0.95, 1.05, 1, 1, 1, 1, 1, 1],\n",
    "    [1, 1, 1.1, 0.9, 1, 1, 1, 1],\n",
    "    [-1, -1, -1, -1, -1, -1, -1, -1],\n",
    "    [-1.1, -0.9, -1, -1, -1, -1, -1, -1],\n",
    "    [-0.95, -1.05, -1, -1, -1, -1, -1, -1],\n",
    "    [-1, -1, -1.1, -0.9, -1, -1, -1, -1]\n",
    "])\n",
    "\n",
    "def all_close(actual, expected, tol=1e-4, no_sign=False):\n",
    "\n",
    "    if isinstance(expected, list):\n",
    "        correct_1 = any([np.allclose(actual, e, atol=tol) for e in expected])\n",
    "        correct_2 = any([np.allclose(np.abs(actual), np.abs(e), atol=tol) for e in expected]) if no_sign else False\n",
    "        correct = correct_1 or correct_2\n",
    "    else:\n",
    "        correct = np.allclose(actual, expected, atol=tol) if not no_sign else np.allclose(np.abs(actual), np.abs(expected), atol=tol)\n",
    "    \n",
    "    if not correct:\n",
    "        print(\"The function is NOT working correctly.\")\n",
    "        print(\"Expected result:\")\n",
    "        print(expected)\n",
    "        print(\"Actual result:\")\n",
    "        print(actual)\n",
    "    else:\n",
    "        print(\"The function is working correctly.\")\n",
    "        print(\"Actual result:\")\n",
    "        print(actual)"
   ],
   "outputs": [],
   "execution_count": 5
  },
  {
   "cell_type": "code",
   "id": "c1a8deb0",
   "metadata": {
    "ExecuteTime": {
     "end_time": "2025-08-15T17:25:34.683749Z",
     "start_time": "2025-08-15T17:25:34.680402Z"
    }
   },
   "source": [
    "# DATA NORMALIZATION\n",
    "expected_result = np.array([\n",
    "    [0, 0, 0, 0, 0, 0, 0, 0],\n",
    "    [2, -2, 0, 0, 0, 0, 0, 0],\n",
    "    [-2, 2, 0, 0, 0, 0, 0, 0],\n",
    "    [0, 0, 2, -2, 0, 0, 0, 0],\n",
    "    [0, 0, 0, 0, 0, 0, 0, 0],\n",
    "    [-2, 2, 0, 0, 0, 0, 0, 0],\n",
    "    [2, -2, 0, 0, 0, 0, 0, 0],\n",
    "    [0, 0, -2, 2, 0, 0, 0, 0]\n",
    "])\n",
    "\n",
    "\n",
    "actual_result = normalize_data(eval_data)\n",
    "# compare the normalized data with the expected result\n",
    "all_close(actual_result, expected_result)"
   ],
   "outputs": [
    {
     "name": "stdout",
     "output_type": "stream",
     "text": [
      "The function is working correctly.\n",
      "Actual result:\n",
      "[[ 0.         0.         0.         0.         0.         0.\n",
      "   0.         0.       ]\n",
      " [ 1.9999996 -1.9999996  0.         0.         0.         0.\n",
      "   0.         0.       ]\n",
      " [-1.9999992  1.9999992  0.         0.         0.         0.\n",
      "   0.         0.       ]\n",
      " [ 0.         0.         1.9999996 -1.9999996  0.         0.\n",
      "   0.         0.       ]\n",
      " [ 0.         0.         0.         0.         0.         0.\n",
      "   0.         0.       ]\n",
      " [-1.9999996  1.9999996  0.         0.         0.         0.\n",
      "   0.         0.       ]\n",
      " [ 1.9999992 -1.9999992  0.         0.         0.         0.\n",
      "   0.         0.       ]\n",
      " [ 0.         0.        -1.9999996  1.9999996  0.         0.\n",
      "   0.         0.       ]]\n"
     ]
    }
   ],
   "execution_count": 6
  },
  {
   "cell_type": "code",
   "id": "afe43189",
   "metadata": {
    "ExecuteTime": {
     "end_time": "2025-08-15T17:25:36.494205Z",
     "start_time": "2025-08-15T17:25:36.487598Z"
    }
   },
   "source": [
    "# DISTANCE MATRIX\n",
    "expected_result = np.array(\n",
    "    [\n",
    "        [0.    , 0.1414, 0.0707, 0.1414, 5.6569, 5.6586, 5.6573, 5.6586],\n",
    "        [0.1414, 0.    , 0.2121, 0.2   , 5.6586, 5.6639, 5.6573, 5.6604],\n",
    "        [0.0707, 0.2121, 0.    , 0.1581, 5.6573, 5.6573, 5.6586, 5.6591],\n",
    "        [0.1414, 0.2   , 0.1581, 0.    , 5.6586, 5.6604, 5.6591, 5.6639],\n",
    "        [5.6569, 5.6586, 5.6573, 5.6586, 0.    , 0.1414, 0.0707, 0.1414],\n",
    "        [5.6586, 5.6639, 5.6573, 5.6604, 0.1414, 0.    , 0.2121, 0.2   ],\n",
    "        [5.6573, 5.6573, 5.6586, 5.6591, 0.0707, 0.2121, 0.    , 0.1581],\n",
    "        [5.6586, 5.6604, 5.6591, 5.6639, 0.1414, 0.2   , 0.1581, 0.    ]\n",
    "    ]\n",
    ")\n",
    "\n",
    "actual_result = euclidean_distance_matrix(eval_data)\n",
    "# compare the distance matrix with the expected result\n",
    "all_close(actual_result, expected_result)"
   ],
   "outputs": [
    {
     "name": "stdout",
     "output_type": "stream",
     "text": [
      "The function is working correctly.\n",
      "Actual result:\n",
      "[[0.         0.14142136 0.07071068 0.14142136 5.65685425 5.65862174\n",
      "  5.65729617 5.65862174]\n",
      " [0.14142136 0.         0.21213203 0.2        5.65862174 5.6639209\n",
      "  5.65729617 5.66038868]\n",
      " [0.07071068 0.21213203 0.         0.15811388 5.65729617 5.65729617\n",
      "  5.65862174 5.65906353]\n",
      " [0.14142136 0.2        0.15811388 0.         5.65862174 5.66038868\n",
      "  5.65906353 5.6639209 ]\n",
      " [5.65685425 5.65862174 5.65729617 5.65862174 0.         0.14142136\n",
      "  0.07071068 0.14142136]\n",
      " [5.65862174 5.6639209  5.65729617 5.66038868 0.14142136 0.\n",
      "  0.21213203 0.2       ]\n",
      " [5.65729617 5.65729617 5.65862174 5.65906353 0.07071068 0.21213203\n",
      "  0.         0.15811388]\n",
      " [5.65862174 5.66038868 5.65906353 5.6639209  0.14142136 0.2\n",
      "  0.15811388 0.        ]]\n"
     ]
    }
   ],
   "execution_count": 7
  },
  {
   "metadata": {},
   "cell_type": "code",
   "outputs": [],
   "execution_count": null,
   "source": "",
   "id": "e4546614d8cae44f"
  },
  {
   "cell_type": "code",
   "id": "36b9afe5",
   "metadata": {
    "ExecuteTime": {
     "end_time": "2025-08-15T17:34:41.887411Z",
     "start_time": "2025-08-15T17:34:41.882157Z"
    }
   },
   "source": [
    "#  HAAR MATRIX\n",
    "expected_result = np.array([\n",
    "    [ 1.,  1.,  1.,  1.,  1.,  1.,  1.,  1.],\n",
    "    [ 1.,  1.,  1.,  1., -1., -1., -1., -1.],\n",
    "    [ 1.,  1., -1., -1.,  0.,  0., -0., -0.],\n",
    "    [ 0.,  0., -0., -0.,  1.,  1., -1., -1.],\n",
    "    [ 1., -1.,  0., -0.,  0., -0.,  0., -0.],\n",
    "    [ 0., -0.,  1., -1.,  0., -0.,  0., -0.],\n",
    "    [ 0., -0.,  0., -0.,  1., -1.,  0., -0.],\n",
    "    [ 0., -0.,  0., -0.,  0., -0.,  1., -1.]])\n",
    "\n",
    "expected_result_norm = np.array([\n",
    "    [ 0.125,  0.125,  0.125,  0.125,  0.125,  0.125,  0.125,  0.125],\n",
    "    [ 0.125,  0.125,  0.125,  0.125, -0.125, -0.125, -0.125, -0.125],\n",
    "    [ 0.25 ,  0.25 , -0.25 , -0.25 ,  0.   ,  0.   , -0.   , -0.   ],\n",
    "    [ 0.   ,  0.   , -0.   , -0.   ,  0.25 ,  0.25 , -0.25 , -0.25 ],\n",
    "    [ 0.5  , -0.5  ,  0.   , -0.   ,  0.   , -0.   ,  0.   , -0.   ],\n",
    "    [ 0.   , -0.   ,  0.5  , -0.5  ,  0.   , -0.   ,  0.   , -0.   ],\n",
    "    [ 0.   , -0.   ,  0.   , -0.   ,  0.5  , -0.5  ,  0.   , -0.   ],\n",
    "    [ 0.   , -0.   ,  0.   , -0.   ,  0.   , -0.   ,  0.5  , -0.5  ]])\n",
    "\n",
    "actual_result = haar_matrix(8)\n",
    "# compare the Haar matrix with the expected result\n",
    "all_close(actual_result, [expected_result, expected_result_norm])"
   ],
   "outputs": [
    {
     "name": "stdout",
     "output_type": "stream",
     "text": [
      "The function is working correctly.\n",
      "Actual result:\n",
      "[[ 1.  1.  1.  1.  1.  1.  1.  1.]\n",
      " [ 1.  1.  1.  1. -1. -1. -1. -1.]\n",
      " [ 1.  1. -1. -1.  0.  0. -0. -0.]\n",
      " [ 0.  0. -0. -0.  1.  1. -1. -1.]\n",
      " [ 1. -1.  0. -0.  0. -0.  0. -0.]\n",
      " [ 0. -0.  1. -1.  0. -0.  0. -0.]\n",
      " [ 0. -0.  0. -0.  1. -1.  0. -0.]\n",
      " [ 0. -0.  0. -0.  0. -0.  1. -1.]]\n"
     ]
    }
   ],
   "execution_count": 27
  },
  {
   "metadata": {
    "ExecuteTime": {
     "end_time": "2025-08-15T17:38:44.394291Z",
     "start_time": "2025-08-15T17:38:44.390928Z"
    }
   },
   "cell_type": "code",
   "source": [
    "# wavelet transform with example in class\n",
    "S = np.array([\n",
    "    [2, 2, 0, 2, 3, 5, 4, 4],\n",
    "])\n",
    "\n",
    "expected_result = np.array([2.75, -1.25,  0.5,   0.,    0.,   -1.,   -1.,    0. ])\n",
    "actual_result = wavelet_transform(S, haar_n=S.shape[1], reduced_n=8)\n",
    "all_close(actual_result, expected_result)"
   ],
   "id": "f6fc00f1562dab3d",
   "outputs": [
    {
     "name": "stdout",
     "output_type": "stream",
     "text": [
      "The function is working correctly.\n",
      "Actual result:\n",
      "[[ 2.75 -1.25  0.5   0.    0.   -1.   -1.    0.  ]]\n"
     ]
    }
   ],
   "execution_count": 28
  },
  {
   "cell_type": "code",
   "id": "1dba9604",
   "metadata": {
    "ExecuteTime": {
     "end_time": "2025-08-15T17:30:13.123526Z",
     "start_time": "2025-08-15T17:30:13.114902Z"
    }
   },
   "source": [
    "# wavelet\n",
    "expected_result = np.array([\n",
    "    [ 0.,  0.,  0.,  0.],\n",
    "    [ 0.,  0.,  0.,  0.],\n",
    "    [ 0.,  0.,  0.,  0.],\n",
    "    [ 0.,  0., -0.,  0.],\n",
    "    [ 0.,  0.,  0.,  0.],\n",
    "    [-0., -0., -0.,  0.],\n",
    "    [ 0.,  0.,  0.,  0.],\n",
    "    [-0., -0.,  0.,  0.]]\n",
    "    )\n",
    "\n",
    "data = normalize_data(eval_data)\n",
    "actual_result = wavelet_transform(data, haar_n=data.shape[1], reduced_n=4)\n",
    "# compare the wavelet transformed data with the expected result\n",
    "all_close(actual_result, expected_result)"
   ],
   "outputs": [
    {
     "name": "stdout",
     "output_type": "stream",
     "text": [
      "The function is working correctly.\n",
      "Actual result:\n",
      "[[ 0.00000000e+00  0.00000000e+00  0.00000000e+00  0.00000000e+00]\n",
      " [ 2.77555756e-16  2.77555756e-16  5.55111512e-16  0.00000000e+00]\n",
      " [ 0.00000000e+00  0.00000000e+00  0.00000000e+00  0.00000000e+00]\n",
      " [ 2.77555756e-16  2.77555756e-16 -5.55111512e-16  0.00000000e+00]\n",
      " [ 0.00000000e+00  0.00000000e+00  0.00000000e+00  0.00000000e+00]\n",
      " [-2.77555756e-16 -2.77555756e-16 -5.55111512e-16  0.00000000e+00]\n",
      " [ 0.00000000e+00  0.00000000e+00  0.00000000e+00  0.00000000e+00]\n",
      " [-2.77555756e-16 -2.77555756e-16  5.55111512e-16  0.00000000e+00]]\n"
     ]
    }
   ],
   "execution_count": 21
  },
  {
   "cell_type": "code",
   "execution_count": 11,
   "id": "a53e9eb7",
   "metadata": {},
   "outputs": [
    {
     "name": "stdout",
     "output_type": "stream",
     "text": [
      "The function is working correctly.\n",
      "Actual result:\n",
      "[[ 0.          0.          0.          0.        ]\n",
      " [-2.0000002   0.          0.          0.        ]\n",
      " [ 1.9999998   0.          0.          0.        ]\n",
      " [ 0.         -2.82842712  0.          0.        ]\n",
      " [ 0.          0.          0.          0.        ]\n",
      " [ 2.0000002   0.          0.          0.        ]\n",
      " [-1.9999998   0.          0.          0.        ]\n",
      " [ 0.          2.82842712  0.          0.        ]]\n"
     ]
    },
    {
     "name": "stderr",
     "output_type": "stream",
     "text": [
      "/tmp/ipykernel_71014/220995127.py:69: RuntimeWarning: invalid value encountered in divide\n",
      "  X_centered = (X - mean) / std  # Avoid division by zero\n"
     ]
    }
   ],
   "source": [
    "# PCA\n",
    "expected_result_center = np.array([\n",
    "    [ 0.    ,  0.    ,  0.    ,  0.    ],\n",
    "    [ 2.8284,  0.    ,  0.    ,  0.    ],\n",
    "    [-2.8284,  0.    ,  0.    ,  0.    ],\n",
    "    [ 0.    ,  2.8284,  0.    ,  0.    ],\n",
    "    [ 0.    ,  0.    ,  0.    ,  0.    ],\n",
    "    [-2.8284,  0.    , -0.    ,  0.    ],\n",
    "    [ 2.8284,  0.    , -0.    ,  0.    ],\n",
    "    [ 0.    , -2.8284,  0.    , -0.    ]])\n",
    "\n",
    "expected_result_2_znorm = np.array([\n",
    "    [ 0.    ,  0.    ,  0.    ,  0.    ],\n",
    "    [ 2.    ,  0.    ,  0.    ,  0.    ],\n",
    "    [-2.    ,  0.    ,  0.    ,  0.    ],\n",
    "    [ 0.    ,  2.8284,  0.    ,  0.    ],\n",
    "    [ 0.    ,  0.    ,  0.    ,  0.    ],\n",
    "    [-2.    ,  0.    , -0.    ,  0.    ],\n",
    "    [ 2.    ,  0.    , -0.    ,  0.    ],\n",
    "    [ 0.    , -2.8284,  0.    , -0.    ]])\n",
    "\n",
    "data = normalize_data(eval_data)\n",
    "actual_result = pca(data, n_components=4)\n",
    "# compare the PCA transformed data with the expected result\n",
    "all_close(actual_result, [expected_result_center, expected_result_2_znorm], no_sign=True)"
   ]
  },
  {
   "cell_type": "code",
   "execution_count": 12,
   "id": "5c193323",
   "metadata": {},
   "outputs": [
    {
     "name": "stdout",
     "output_type": "stream",
     "text": [
      "The function is working correctly.\n",
      "Actual result:\n",
      "[[ 0.00000000e+00  0.00000000e+00  0.00000000e+00  0.00000000e+00]\n",
      " [ 2.82842656e+00  0.00000000e+00  7.81347640e-16  0.00000000e+00]\n",
      " [-2.82842599e+00  0.00000000e+00  8.56493357e-16  0.00000000e+00]\n",
      " [ 0.00000000e+00  2.82842656e+00  0.00000000e+00  1.15213870e-16]\n",
      " [ 0.00000000e+00  0.00000000e+00  0.00000000e+00  0.00000000e+00]\n",
      " [-2.82842656e+00  0.00000000e+00 -7.81347640e-16  0.00000000e+00]\n",
      " [ 2.82842599e+00  0.00000000e+00 -8.56493357e-16  0.00000000e+00]\n",
      " [ 0.00000000e+00 -2.82842656e+00  0.00000000e+00 -1.15213870e-16]]\n"
     ]
    }
   ],
   "source": [
    "# use sklearn pca for comparison\n",
    "from sklearn.decomposition import PCA as sklearnPCA\n",
    "data = normalize_data(eval_data)\n",
    "sklearn_pca = sklearnPCA(n_components=4)\n",
    "sklearn_pca.fit(data)\n",
    "actual_result = sklearn_pca.transform(data)\n",
    "# compare the sklearn PCA transformed data with the expected result\n",
    "all_close(actual_result, [expected_result_center, expected_result_2_znorm], no_sign=True)"
   ]
  },
  {
   "cell_type": "code",
   "execution_count": 13,
   "id": "e4f4fd28",
   "metadata": {},
   "outputs": [
    {
     "name": "stdout",
     "output_type": "stream",
     "text": [
      "The function is NOT working correctly.\n",
      "Expected result:\n",
      "[[ 0.  0.  0.  0.]\n",
      " [ 0.  0.  0.  0.]\n",
      " [ 0.  0.  0.  0.]\n",
      " [ 0.  0. -0.  0.]\n",
      " [ 0.  0.  0.  0.]\n",
      " [-0. -0. -0.  0.]\n",
      " [ 0.  0.  0.  0.]\n",
      " [-0. -0.  0.  0.]]\n",
      "Actual result:\n",
      "[[ 0.         0.         0.         0.       ]\n",
      " [ 1.9999996 -1.9999996  0.         0.       ]\n",
      " [-1.9999992  1.9999992  0.         0.       ]\n",
      " [ 0.         0.         1.9999996 -1.9999996]\n",
      " [ 0.         0.         0.         0.       ]\n",
      " [-1.9999996  1.9999996  0.         0.       ]\n",
      " [ 1.9999992 -1.9999992  0.         0.       ]\n",
      " [ 0.         0.        -1.9999996  1.9999996]]\n"
     ]
    }
   ],
   "source": [
    "# Verify wavelet with pywavelet\n",
    "import pywt\n",
    "\n",
    "data = normalize_data(eval_data)\n",
    "coeffs = pywt.wavedec(data, 'haar', level=1)\n",
    "# Reconstruct the wavelet coefficients to get the transformed data\n",
    "actual_result = pywt.waverec(coeffs, 'haar')[:, :4]\n",
    "# compare the pywavelet transformed data with the expected result\n",
    "all_close(actual_result, expected_result)"
   ]
  },
  {
   "cell_type": "code",
   "execution_count": 14,
   "id": "e5c88f3d",
   "metadata": {},
   "outputs": [
    {
     "data": {
      "text/plain": [
       "array([[ 0.       ,  0.       ,  0.       ,  0.       ,  0.       ,\n",
       "         0.       ,  0.       ,  0.       ],\n",
       "       [ 1.9999996, -1.9999996,  0.       ,  0.       ,  0.       ,\n",
       "         0.       ,  0.       ,  0.       ],\n",
       "       [-1.9999992,  1.9999992,  0.       ,  0.       ,  0.       ,\n",
       "         0.       ,  0.       ,  0.       ],\n",
       "       [ 0.       ,  0.       ,  1.9999996, -1.9999996,  0.       ,\n",
       "         0.       ,  0.       ,  0.       ],\n",
       "       [ 0.       ,  0.       ,  0.       ,  0.       ,  0.       ,\n",
       "         0.       ,  0.       ,  0.       ],\n",
       "       [-1.9999996,  1.9999996,  0.       ,  0.       ,  0.       ,\n",
       "         0.       ,  0.       ,  0.       ],\n",
       "       [ 1.9999992, -1.9999992,  0.       ,  0.       ,  0.       ,\n",
       "         0.       ,  0.       ,  0.       ],\n",
       "       [ 0.       ,  0.       , -1.9999996,  1.9999996,  0.       ,\n",
       "         0.       ,  0.       ,  0.       ]])"
      ]
     },
     "execution_count": 14,
     "metadata": {},
     "output_type": "execute_result"
    }
   ],
   "source": [
    "normalize_data(eval_data)"
   ]
  },
  {
   "cell_type": "code",
   "execution_count": null,
   "id": "6915371a",
   "metadata": {},
   "outputs": [],
   "source": []
  }
 ],
 "metadata": {
  "kernelspec": {
   "display_name": "venv",
   "language": "python",
   "name": "python3"
  },
  "language_info": {
   "codemirror_mode": {
    "name": "ipython",
    "version": 3
   },
   "file_extension": ".py",
   "mimetype": "text/x-python",
   "name": "python",
   "nbconvert_exporter": "python",
   "pygments_lexer": "ipython3",
   "version": "3.10.12"
  }
 },
 "nbformat": 4,
 "nbformat_minor": 5
}
