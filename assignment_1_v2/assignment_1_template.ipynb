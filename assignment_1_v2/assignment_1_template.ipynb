{
 "cells": [
  {
   "metadata": {},
   "cell_type": "markdown",
   "source": [
    "# Assignment 1: Dimensionality Reduction\n",
    "\n",
    "This notebook is a starter template for your assignment. Please fill in the required functions and complete the analysis as described in the assignment instructions.\n"
   ],
   "id": "29019faae4dae706"
  },
  {
   "metadata": {
    "ExecuteTime": {
     "end_time": "2025-08-05T03:29:03.519279Z",
     "start_time": "2025-08-05T03:29:03.249276Z"
    }
   },
   "cell_type": "code",
   "source": [
    "# libraries\n",
    "import numpy as np\n",
    "import matplotlib.pyplot as plt"
   ],
   "id": "8be13b28ca372a84",
   "outputs": [],
   "execution_count": 2
  },
  {
   "metadata": {},
   "cell_type": "markdown",
   "source": "## Data Loading",
   "id": "af315cc23129f0f"
  },
  {
   "metadata": {
    "ExecuteTime": {
     "end_time": "2025-08-05T03:27:50.452525Z",
     "start_time": "2025-08-05T03:27:50.450024Z"
    }
   },
   "cell_type": "code",
   "source": [
    "# Load the data\n",
    "# You can use numpy to load the data from a file.\n",
    "\n",
    "def load_data(file_path):\n",
    "    \"\"\"\n",
    "    Load the dataset from a given file path.\n",
    "    Args:\n",
    "        file_path: str, path to the data file\n",
    "    Returns:\n",
    "        data: numpy array of shape (n_samples, n_features)\n",
    "    \"\"\"\n",
    "    raise NotImplementedError('load_data function not implemented')"
   ],
   "id": "dee99ece9aa05a9",
   "outputs": [],
   "execution_count": 1
  },
  {
   "metadata": {},
   "cell_type": "markdown",
   "source": [
    "## Data Normalization\n",
    "Perform row-wise normalization on the input data."
   ],
   "id": "87329a68f18287ce"
  },
  {
   "metadata": {},
   "cell_type": "code",
   "outputs": [],
   "execution_count": null,
   "source": [
    "## Normalization\n",
    "def normalize_data(X):\n",
    "    \"\"\"\n",
    "    Normalize the data matrix X using z-score normalization.\n",
    "    Args:\n",
    "        X: numpy array of shape (n_samples, n_features)\n",
    "    Returns:\n",
    "        X_normalized: numpy array of shape (n_samples, n_features)\n",
    "    \"\"\"\n",
    "    raise NotImplementedError('normalize_data function not implemented')"
   ],
   "id": "de0c796983b229f9"
  },
  {
   "metadata": {},
   "cell_type": "markdown",
   "source": [
    "## Euclidean Distance Matrix\n",
    "\n",
    "Implement the function below to compute the Euclidean distance matrix for a given data matrix.\n"
   ],
   "id": "de504cd51c8c66e3"
  },
  {
   "metadata": {},
   "cell_type": "code",
   "outputs": [],
   "execution_count": null,
   "source": [
    "def euclidean_distance(X):\n",
    "    \"\"\"\n",
    "    Compute the pairwise Euclidean distance matrix for X.\n",
    "    Args:\n",
    "        X: numpy array of shape (n_samples, n_features)\n",
    "    Returns:\n",
    "        dist_matrix: numpy array of shape (n_samples, n_samples)\n",
    "    \"\"\"\n",
    "    # TODO: Implement this function\n",
    "    raise NotImplementedError('euclidean_distance function not implemented')\n",
    "\n",
    "# Example usage (you can uncomment this after implementing for testing):\n",
    "# dist_matrix = euclidean_distance(data_norm[:100])\n",
    "# print('Distance matrix shape:', dist_matrix.shape)\n"
   ],
   "id": "ec16d23b0f842280"
  },
  {
   "metadata": {},
   "cell_type": "markdown",
   "source": [
    "## Wavelet Transform (Haar)\n",
    "\n",
    "Implement a function to generate a Haar matrix and use it to perform wavelet transform.\n"
   ],
   "id": "9b52d83203d8fe9a"
  },
  {
   "metadata": {},
   "cell_type": "code",
   "outputs": [],
   "execution_count": null,
   "source": [
    "def haar_matrix(n: int):\n",
    "    # TODO: Implement this function\n",
    "    raise NotImplementedError('haar_matrix function not implemented')\n",
    "\n",
    "def wavelet_transform(X, haar_n: int, reduced_n: int):\n",
    "    \"\"\"\n",
    "    Apply Haar wavelet transform to X using an n x n Haar matrix, and reduce the number of features to `reduced_n`.\n",
    "\n",
    "    This function should call haar_matrix to generate the Haar matrix.\n",
    "\n",
    "    Args:\n",
    "        X: numpy array of shape (n_samples, n_features)\n",
    "        haar_n: int, number of features to be passed to haar_matrix()\n",
    "        reduced_n: int, number of features to keep after wavelet transform\n",
    "    Returns:\n",
    "        X_wavelet: numpy array of shape (n_samples, reduced_n)\n",
    "    \"\"\"\n",
    "    # TODO: Implement this function\n",
    "    raise NotImplementedError('wavelet_transform function not implemented')\n",
    "\n",
    "# Example usage (you can uncomment this after implementing for testing):\n",
    "# H = haar_matrix(data_norm.shape[1])\n",
    "# data_wavelet = wavelet_transform(data_norm, data_norm.shape[1])\n",
    "# print('Wavelet-transformed data shape:', data_wavelet.shape)\n"
   ],
   "id": "3c08c814325ab4c3"
  },
  {
   "metadata": {},
   "cell_type": "markdown",
   "source": [
    "## Principal Component Analysis (PCA)\n",
    "\n",
    "Implement PCA without using any external libraries like scikit-learn.\n"
   ],
   "id": "a8e785a5cb8c514c"
  },
  {
   "metadata": {},
   "cell_type": "code",
   "outputs": [],
   "execution_count": null,
   "source": [
    "def pca(X, n_components: int):\n",
    "    \"\"\"\n",
    "    Perform PCA on X and return the projected data, and return the best n_components.\n",
    "    Args:\n",
    "        X: numpy array of shape (n_samples, n_features)\n",
    "        n_components: int, number of principal components to keep\n",
    "    Returns:\n",
    "        X_pca: numpy array of shape (n_samples, n_components)\n",
    "    \"\"\"\n",
    "    # TODO: Implement this function\n",
    "    raise NotImplementedError('pca function not implemented')\n",
    "\n",
    "# Example usage (uncomment after implementing):\n",
    "# data_pca = pca(data_znorm, 4)\n",
    "# print('PCA-transformed data shape:', data_pca.shape)\n"
   ],
   "id": "9827054935baed42"
  },
  {
   "metadata": {},
   "cell_type": "markdown",
   "source": [
    "## Benchmarking and Analysis\n",
    "\n",
    "Compare the dimensionality reduction techniques. You should choose or design evaluation metrics to support your observation (e.g., relation preservation, execution time, etc.).\n",
    "\n",
    "Please ensure that your analysis is well-structured and well-documented. You can use use plots to visualize the comparison results.\n",
    "For visualizing high dimensional data, you can use t-SNE (from `scikit-learn`, [link here](https://scikit-learn.org/stable/modules/generated/sklearn.manifold.TSNE.html)) to reduce the dimensions to 2D or 3D for plotting.\n"
   ],
   "id": "5106955beb45a08"
  },
  {
   "metadata": {},
   "cell_type": "code",
   "outputs": [],
   "execution_count": null,
   "source": "# Add your analysis, benchmarking, and plots here.\n",
   "id": "494e845ffb27191"
  }
 ],
 "metadata": {
  "kernelspec": {
   "display_name": "Python 3",
   "language": "python",
   "name": "python3"
  },
  "language_info": {
   "codemirror_mode": {
    "name": "ipython",
    "version": 2
   },
   "file_extension": ".py",
   "mimetype": "text/x-python",
   "name": "python",
   "nbconvert_exporter": "python",
   "pygments_lexer": "ipython2",
   "version": "2.7.6"
  }
 },
 "nbformat": 4,
 "nbformat_minor": 5
}
