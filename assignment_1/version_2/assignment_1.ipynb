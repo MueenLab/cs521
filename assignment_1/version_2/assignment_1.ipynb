{
 "cells": [
  {
   "cell_type": "markdown",
   "id": "29019faae4dae706",
   "metadata": {},
   "source": [
    "# Assignment 1: Dimensionality Reduction\n",
    "\n",
    "This notebook is a starter template for your assignment. Please fill in the required functions and complete the analysis as described in the assignment instructions.\n",
    "\n",
    "**IMPORTANT**: Do not change the function names or the function parameters, as they will be used by the grading script.\n"
   ]
  },
  {
   "cell_type": "code",
   "execution_count": 2,
   "id": "8be13b28ca372a84",
   "metadata": {
    "ExecuteTime": {
     "end_time": "2025-08-05T03:29:03.519279Z",
     "start_time": "2025-08-05T03:29:03.249276Z"
    }
   },
   "outputs": [],
   "source": [
    "# libraries\n",
    "import numpy as np\n",
    "import matplotlib.pyplot as plt\n",
    "import time"
   ]
  },
  {
   "cell_type": "markdown",
   "id": "af315cc23129f0f",
   "metadata": {},
   "source": [
    "## Data Loading"
   ]
  },
  {
   "cell_type": "code",
   "execution_count": 1,
   "id": "dee99ece9aa05a9",
   "metadata": {
    "ExecuteTime": {
     "end_time": "2025-08-05T03:27:50.452525Z",
     "start_time": "2025-08-05T03:27:50.450024Z"
    }
   },
   "outputs": [],
   "source": [
    "# Load the data\n",
    "# You can use numpy to load the data from a file.\n",
    "\n",
    "def load_data(file_path):\n",
    "    \"\"\"\n",
    "    Load the dataset from a given file path.\n",
    "    Args:\n",
    "        file_path: str, path to the data file\n",
    "    Returns:\n",
    "        data: numpy array of shape (n_samples, n_features)\n",
    "    \"\"\"\n",
    "    raise NotImplementedError('load_data function not implemented')"
   ]
  },
  {
   "cell_type": "markdown",
   "id": "87329a68f18287ce",
   "metadata": {},
   "source": [
    "## Data Normalization\n",
    "Perform row-wise normalization on the input data."
   ]
  },
  {
   "cell_type": "code",
   "execution_count": null,
   "id": "de0c796983b229f9",
   "metadata": {},
   "outputs": [],
   "source": [
    "## Normalization\n",
    "def normalize_data(X):\n",
    "    \"\"\"\n",
    "    Normalize the data matrix X using z-score normalization.\n",
    "    Args:\n",
    "        X: numpy array of shape (n_samples, n_features)\n",
    "    Returns:\n",
    "        X_normalized: numpy array of shape (n_samples, n_features)\n",
    "    \"\"\"\n",
    "    raise NotImplementedError('normalize_data function not implemented')"
   ]
  },
  {
   "cell_type": "markdown",
   "id": "de504cd51c8c66e3",
   "metadata": {},
   "source": [
    "## Euclidean Distance Matrix\n",
    "\n",
    "Implement the function below to compute the Euclidean distance matrix for a given data matrix.\n"
   ]
  },
  {
   "cell_type": "code",
   "execution_count": null,
   "id": "ec16d23b0f842280",
   "metadata": {},
   "outputs": [],
   "source": [
    "def euclidean_distance_matrix(X):\n",
    "    \"\"\"\n",
    "    Compute the pairwise Euclidean distance matrix for X.\n",
    "    Args:\n",
    "        X: numpy array of shape (n_samples, n_features)\n",
    "    Returns:\n",
    "        dist_matrix: numpy array of shape (n_samples, n_samples)\n",
    "    \"\"\"\n",
    "    # TODO: Implement this function\n",
    "    raise NotImplementedError('euclidean_distance function not implemented')\n",
    "\n",
    "# Example usage (you can uncomment this after implementing for testing):\n",
    "# dist_matrix = euclidean_distance(data_norm[:100])\n",
    "# print('Distance matrix shape:', dist_matrix.shape)\n"
   ]
  },
  {
   "cell_type": "markdown",
   "id": "9b52d83203d8fe9a",
   "metadata": {},
   "source": [
    "## Wavelet Transform (Haar)\n",
    "\n",
    "Implement a function to generate a Haar matrix and use it to perform wavelet transform.\n",
    "\n",
    "You need to use the first 4 coefficients to perform the Wavelet transform.\n"
   ]
  },
  {
   "cell_type": "code",
   "execution_count": null,
   "id": "15c6b839",
   "metadata": {},
   "outputs": [],
   "source": [
    "def haar_matrix(n: int):\n",
    "    # TODO: Implement this function\n",
    "    raise NotImplementedError('haar_matrix function not implemented')"
   ]
  },
  {
   "cell_type": "code",
   "execution_count": null,
   "id": "3c08c814325ab4c3",
   "metadata": {},
   "outputs": [],
   "source": [
    "def wavelet_transform(X, haar_n: int, reduced_n: int):\n",
    "    \"\"\"\n",
    "    Apply Haar wavelet transform to X using an n x n Haar matrix, and reduce the number of features to `reduced_n`.\n",
    "\n",
    "    This function should call haar_matrix to generate the Haar matrix.\n",
    "\n",
    "    Args:\n",
    "        X: numpy array of shape (n_samples, n_features)\n",
    "        haar_n: int, number of features to be passed to haar_matrix()\n",
    "        reduced_n: int, number of features to keep after wavelet transform\n",
    "    Returns:\n",
    "        X_wavelet: numpy array of shape (n_samples, reduced_n)\n",
    "    \"\"\"\n",
    "    # TODO: Implement this function\n",
    "    raise NotImplementedError('wavelet_transform function not implemented')\n",
    "\n",
    "# Example usage (you can uncomment this after implementing for testing):\n",
    "# H = haar_matrix(data_norm.shape[1])\n",
    "# data_wavelet = wavelet_transform(data_norm, data_norm.shape[1])\n",
    "# print('Wavelet-transformed data shape:', data_wavelet.shape)\n"
   ]
  },
  {
   "cell_type": "markdown",
   "id": "a8e785a5cb8c514c",
   "metadata": {},
   "source": [
    "## Principal Component Analysis (PCA)\n",
    "\n",
    "Implement PCA without using any external libraries like scikit-learn. Please keep the BEST 4  principal components.\n"
   ]
  },
  {
   "cell_type": "code",
   "execution_count": null,
   "id": "9827054935baed42",
   "metadata": {},
   "outputs": [],
   "source": [
    "def pca(X, n_components: int):\n",
    "    \"\"\"\n",
    "    Perform PCA on X and return the projected data, and return the best n_components.\n",
    "    Args:\n",
    "        X: numpy array of shape (n_samples, n_features)\n",
    "        n_components: int, number of principal components to keep\n",
    "    Returns:\n",
    "        X_pca: numpy array of shape (n_samples, n_components)\n",
    "    \"\"\"\n",
    "    # TODO: Implement this function\n",
    "    raise NotImplementedError('pca function not implemented')\n",
    "\n",
    "# Example usage (uncomment after implementing):\n",
    "# data_pca = pca(data_znorm, 4)\n",
    "# print('PCA-transformed data shape:', data_pca.shape)\n"
   ]
  },
  {
   "cell_type": "markdown",
   "id": "5106955beb45a08",
   "metadata": {},
   "source": [
    "## Benchmarking and Analysis\n",
    "\n",
    "Compare the dimensionality reduction techniques.\n",
    "\n",
    "Please ensure that your analysis is well-structured and well-documented. You can use use plots to visualize the comparison results.\n",
    "For visualizing high dimensional data, you can use t-SNE (from `scikit-learn`, [link here](https://scikit-learn.org/stable/modules/generated/sklearn.manifold.TSNE.html)) to reduce the dimensions to 2D or 3D for plotting.\n"
   ]
  },
  {
   "cell_type": "markdown",
   "id": "f761a425713ecc72",
   "metadata": {},
   "source": [
    "### 1. Elasped Time\n",
    "\n",
    "Compare the elapsed time for each dimensionality reduction technique. You can use the `time` module to measure the execution time of each function."
   ]
  },
  {
   "cell_type": "code",
   "execution_count": 1,
   "id": "494e845ffb27191",
   "metadata": {
    "ExecuteTime": {
     "end_time": "2025-08-06T16:54:42.344993Z",
     "start_time": "2025-08-06T16:54:42.342312Z"
    }
   },
   "outputs": [],
   "source": [
    "# Your implementation for measuring elapsed time goes here"
   ]
  },
  {
   "cell_type": "markdown",
   "id": "48fda47efa2c29d5",
   "metadata": {},
   "source": [
    "### 2. Distance Relation Consistency\n",
    "Compare the distance relation consistency of the original data and the reduced data. You can use the Euclidean distance matrix computed earlier to analyze this."
   ]
  },
  {
   "cell_type": "code",
   "execution_count": 2,
   "id": "1a39afa1dd98ba1",
   "metadata": {
    "ExecuteTime": {
     "end_time": "2025-08-06T16:55:43.461789Z",
     "start_time": "2025-08-06T16:55:43.459454Z"
    }
   },
   "outputs": [],
   "source": [
    "# Your implementation for distance relation consistency goes here"
   ]
  },
  {
   "cell_type": "markdown",
   "id": "8276fd436c77a88a",
   "metadata": {},
   "source": [
    "### 3. Your Own Metric\n",
    "With the help of AI tools, find another metric that can be used to compare the dimensionality reduction techniques."
   ]
  },
  {
   "cell_type": "code",
   "execution_count": 3,
   "id": "819adaa2c44b0950",
   "metadata": {
    "ExecuteTime": {
     "end_time": "2025-08-06T16:56:30.323121Z",
     "start_time": "2025-08-06T16:56:30.320557Z"
    }
   },
   "outputs": [],
   "source": [
    "# Code, plots, and analysis for your own metric goes here"
   ]
  },
  {
   "cell_type": "code",
   "execution_count": null,
   "id": "88809b985885446b",
   "metadata": {},
   "outputs": [],
   "source": []
  }
 ],
 "metadata": {
  "kernelspec": {
   "display_name": "Python 3",
   "language": "python",
   "name": "python3"
  },
  "language_info": {
   "codemirror_mode": {
    "name": "ipython",
    "version": 2
   },
   "file_extension": ".py",
   "mimetype": "text/x-python",
   "name": "python",
   "nbconvert_exporter": "python",
   "pygments_lexer": "ipython2",
   "version": "2.7.6"
  }
 },
 "nbformat": 4,
 "nbformat_minor": 5
}
