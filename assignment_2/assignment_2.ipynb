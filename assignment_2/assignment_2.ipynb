{
 "cells": [
  {
   "metadata": {
    "collapsed": true
   },
   "cell_type": "markdown",
   "source": "# Assignment 2: Classification",
   "id": "7e1c287e781abe91"
  },
  {
   "metadata": {
    "ExecuteTime": {
     "end_time": "2025-08-11T18:58:07.145842Z",
     "start_time": "2025-08-11T18:57:55.241875Z"
    }
   },
   "cell_type": "code",
   "source": "import numpy as np",
   "id": "40b6bd170da06bc9",
   "outputs": [],
   "execution_count": 1
  },
  {
   "metadata": {
    "ExecuteTime": {
     "end_time": "2025-08-11T18:58:07.773201Z",
     "start_time": "2025-08-11T18:58:07.176125Z"
    }
   },
   "cell_type": "code",
   "source": [
    "def load_data(file_path):\n",
    "    \"\"\"\n",
    "    Load the dataset from a given file path.\n",
    "    Args:\n",
    "        file_path: str, path to the data file\n",
    "    Returns:\n",
    "        data: numpy array of shape (n_samples, n_features)\n",
    "    \"\"\"\n",
    "    data = np.loadtxt(file_path)\n",
    "    return data\n",
    "\n",
    "# load the dataset\n",
    "data = load_data('data/dataForAssignment2.txt')"
   ],
   "id": "195f59139e1b1bb1",
   "outputs": [],
   "execution_count": 2
  },
  {
   "metadata": {},
   "cell_type": "code",
   "outputs": [],
   "execution_count": null,
   "source": [
    "# Shuffle the rows\n",
    "def shuffle_rows(X):\n",
    "    \"\"\"\n",
    "    Shuffle the rows of the input matrix X.\n",
    "    Args:\n",
    "        X: numpy array of shape (n_samples, n_features)\n",
    "    Returns:\n",
    "        X_shuffled: numpy array of shape (n_samples, n_features) with shuffled rows\n",
    "    \"\"\"\n",
    "    raise NotImplementedError('shuffle_rows function not implemented')"
   ],
   "id": "39eb53409bfc0235"
  },
  {
   "metadata": {},
   "cell_type": "code",
   "outputs": [],
   "execution_count": null,
   "source": "",
   "id": "79f153840c1877af"
  }
 ],
 "metadata": {
  "kernelspec": {
   "display_name": "Python 3",
   "language": "python",
   "name": "python3"
  },
  "language_info": {
   "codemirror_mode": {
    "name": "ipython",
    "version": 2
   },
   "file_extension": ".py",
   "mimetype": "text/x-python",
   "name": "python",
   "nbconvert_exporter": "python",
   "pygments_lexer": "ipython2",
   "version": "2.7.6"
  }
 },
 "nbformat": 4,
 "nbformat_minor": 5
}
